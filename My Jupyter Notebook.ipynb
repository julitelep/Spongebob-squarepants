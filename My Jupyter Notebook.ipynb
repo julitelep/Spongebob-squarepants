{
    "cells": [
        {
            "cell_type": "markdown",
            "id": "29ac0e15-868e-4694-a6be-4d3bd7f933eb",
            "metadata": {},
            "source": "# My Jupyter Notebook on IBM Watson Studio"
        },
        {
            "cell_type": "markdown",
            "id": "01017d17-ebdb-486a-b4b5-9c6141744db4",
            "metadata": {},
            "source": "**Julita**"
        },
        {
            "cell_type": "markdown",
            "id": "3083eded-c899-4446-a349-8ceac4773485",
            "metadata": {},
            "source": "~~Future~~ Data Scientist"
        },
        {
            "cell_type": "markdown",
            "id": "ba633345-68dd-4e64-bf65-7c25d8194c5b",
            "metadata": {},
            "source": "*I am interested in Data Science because I would love to contribute to help towards affordable and quality healthcare. The use of healthcare data analysis can reduce the cost of treatment, predict disease outbreaks, prevent diseases and improve patient care and quality of life in general.*"
        },
        {
            "cell_type": "markdown",
            "id": "8df7a1e3-731c-4f6e-8ed9-67ec8f761ad6",
            "metadata": {},
            "source": "### The below should print \u2018Merry Christmas and prosperous New 2022!\u2019"
        },
        {
            "cell_type": "code",
            "execution_count": 1,
            "id": "f8e24af5-c2f9-41f8-83a6-8ce0c804e318",
            "metadata": {},
            "outputs": [
                {
                    "name": "stdout",
                    "output_type": "stream",
                    "text": "Merry Christmas and prosperous New 2022!\n"
                }
            ],
            "source": "print(\"Merry Christmas and prosperous New 2022!\")"
        },
        {
            "cell_type": "markdown",
            "id": "61b19440-6ade-4682-b643-76cd800e1590",
            "metadata": {},
            "source": ">Cheers to a new year and another chance for us to get it right."
        },
        {
            "cell_type": "markdown",
            "id": "61cd9fca-5260-421c-abd3-5333cb99dcd4",
            "metadata": {},
            "source": "`~ Oprah Winfrey`"
        },
        {
            "cell_type": "markdown",
            "id": "d234bfc8-0572-4781-ac90-4cfb94ebe1a9",
            "metadata": {},
            "source": ">With the new day comes new strength and new thoughts."
        },
        {
            "cell_type": "markdown",
            "id": "0d5a0a8b-cfc4-432c-a204-26636a38cc4e",
            "metadata": {},
            "source": "`~ Eleanor Roosevelt`"
        },
        {
            "cell_type": "markdown",
            "id": "a6246086-be0c-4cdc-9b01-d51b58584123",
            "metadata": {},
            "source": ">As we look forward to the new year, let's resolve to recommit ourselves to the values we share."
        },
        {
            "cell_type": "markdown",
            "id": "2b2b9b27-65ea-40c7-a8ef-6b24ba48353c",
            "metadata": {},
            "source": "`~ Barack Obama`"
        },
        {
            "cell_type": "markdown",
            "id": "91feca9c-3f3b-4c4e-922f-3576d10d0978",
            "metadata": {},
            "source": "  * Life isn't about finding yourself. Life is about creating yourself.  \n    * `~ George Bernard Shaw`\n  * It's never too late - never too late to start over, never too late to be happy.  \n    * `~ Jane Fonda`"
        },
        {
            "cell_type": "markdown",
            "id": "20c77f65-dee3-4c97-af94-8615d5d97363",
            "metadata": {},
            "source": "[Best Happy New Year Quotes for 2022]( https://www.homemade-gifts-made-easy.com/new-year-wishes.html)"
        }
    ],
    "metadata": {
        "kernelspec": {
            "display_name": "Python 3.8",
            "language": "python",
            "name": "python3"
        },
        "language_info": {
            "codemirror_mode": {
                "name": "ipython",
                "version": 3
            },
            "file_extension": ".py",
            "mimetype": "text/x-python",
            "name": "python",
            "nbconvert_exporter": "python",
            "pygments_lexer": "ipython3",
            "version": "3.8.12"
        }
    },
    "nbformat": 4,
    "nbformat_minor": 5
}